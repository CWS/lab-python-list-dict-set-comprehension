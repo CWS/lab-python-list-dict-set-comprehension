{
 "cells": [
  {
   "cell_type": "markdown",
   "id": "25d7736c-ba17-4aff-b6bb-66eba20fbf4e",
   "metadata": {},
   "source": [
    "# Lab | List, Dict and Set Comprehension"
   ]
  },
  {
   "cell_type": "markdown",
   "id": "7dd3cbde-675a-4b81-92c3-f728846dbe06",
   "metadata": {},
   "source": [
    "## Exercise: Managing Customer Orders Optimized with Comprehension"
   ]
  },
  {
   "cell_type": "markdown",
   "id": "5d500160-2fb7-4777-b5e4-09d45ebaf328",
   "metadata": {},
   "source": [
    "In the previous exercise, you developed a program to manage customer orders and inventory. Now, let's take it a step further and incorporate comprehension into your code.\n",
    "\n",
    "Follow the steps below to complete the exercise:\n",
    "\n",
    "1. Review your code from the previous exercise and identify areas where you can apply comprehension to simplify and streamline your code. \n",
    "\n",
    "    - *Hint: Apply it to initialize inventory, updating the inventory and printing the updated inventory.*\n",
    "    \n",
    "    - For example, in initializing the inventory, we could have:\n",
    "    \n",
    "        ```python\n",
    "        def initialize_inventory(products):\n",
    "            inventory = {product: int(input(f\"Enter the quantity of {product}s available: \")) for product in products}\n",
    "            return inventory\n",
    "\n",
    "        ```\n",
    "<br>\n",
    "    \n",
    "    \n",
    "2. Modify the function get_customer_orders so it prompts the user to enter the number of customer orders and gathers the product names using a loop and user input. Use comprehension.\n",
    "\n",
    "3. Add a new function to calculate the total price of the customer order. For each product in customer_orders, prompt the user to enter the price of that product. Use comprehension to calculate the total price. Note: assume that the user can only have 1 unit of each product.\n",
    "\n",
    "4. Modify the update_inventory function to remove the product from the inventory if its quantity becomes zero after fulfilling the customer orders. Use comprehension to filter out the products with a quantity of zero from the inventory.\n",
    "\n",
    "5. Print the total price of the customer order.\n",
    "\n",
    "Your code should produce output similar to the following:\n",
    "\n",
    "```python\n",
    "Enter the quantity of t-shirts available:  5\n",
    "Enter the quantity of mugs available:  4\n",
    "Enter the quantity of hats available:  3\n",
    "Enter the quantity of books available:  2\n",
    "Enter the quantity of keychains available:  1\n",
    "Enter the number of customer orders:  2\n",
    "Enter the name of a product that a customer wants to order:  hat\n",
    "Enter the name of a product that a customer wants to order:  keychain\n",
    "\n",
    "Order Statistics:\n",
    "Total Products Ordered: 2\n",
    "Percentage of Unique Products Ordered: 40.0\n",
    "\n",
    "Updated Inventory:\n",
    "t-shirt: 5\n",
    "mug: 4\n",
    "hat: 2\n",
    "book: 2\n",
    "Enter the price of keychain:  5\n",
    "Enter the price of hat:  10\n",
    "Total Price: 15.0\n",
    "\n",
    "```\n"
   ]
  },
  {
   "cell_type": "code",
   "execution_count": 89,
   "id": "f9a2eef1",
   "metadata": {},
   "outputs": [
    {
     "name": "stdout",
     "output_type": "stream",
     "text": [
      "Order Statistics: \n",
      "Total Products Ordered: 2 \n",
      "Percentage of Products Ordered: 40.0 % \n",
      "\n",
      "\n",
      "Updated Inventory: \n",
      "t-shirt: 1\n",
      "book: 1\n",
      "keychain: 1\n",
      "\n",
      "\n",
      "Total Price: $20 \n"
     ]
    }
   ],
   "source": [
    "products = [\"t-shirt\", \"mug\", \"hat\", \"book\", \"keychain\"]\n",
    "\n",
    "def initialize_inventory(products_list): \n",
    "    inventory = {item : int(input(f\"Please input quantity of {item} \")) for item in products_list}\n",
    "    return inventory\n",
    "    \n",
    "def get_customer_orders():\n",
    "    orders_set = {input(\"What would you like to order\") for order in range(int(input(\"how many items would you like to order? \")))}\n",
    "    return orders_set\n",
    "\n",
    "def order_price(orders):\n",
    "    total = [(int(input(f\"How much does {item} cost? \"))) for item in orders]\n",
    "    total = sum(total)\n",
    "    return print(f\"Total Price: ${total} \")\n",
    "\n",
    "def calculate_order_statistics(orders_set, products_list):\n",
    "    total_order = len(orders_set)\n",
    "    total_inventory = len(products_list)\n",
    "    perc_ordered = ((total_order/total_inventory)*100)\n",
    "    order_status = (total_order, perc_ordered)\n",
    "    return order_status\n",
    "\n",
    "def update_inventory(order_set, inventory_dict):\n",
    "    updated_inventory = {order : inventory_dict[order]-1 if order in order_set else inventory_dict[order] for order in inventory_dict}\n",
    "    updated_inventory = {order : quantity for order, quantity in updated_inventory.items() if quantity > 0}\n",
    "    return updated_inventory\n",
    "\n",
    "def print_order_statistics(order_statistics):\n",
    "    print(f\"Order Statistics: \\nTotal Products Ordered: {order_statistics[0]} \\nPercentage of Products Ordered: {order_statistics[1]} % \")\n",
    "    for order in order_statistics:\n",
    "        if order in inventory:\n",
    "            inventory[order] = inventory.get(order)-1\n",
    "\n",
    "def print_updated_inventory(inventory):\n",
    "    print(\"Updated Inventory: \")\n",
    "    for key in inventory:\n",
    "        print(f\"{key}: {inventory.get(key)}\")\n",
    "    return\n",
    "\n",
    "\n",
    "inventory = initialize_inventory(products)\n",
    "order = get_customer_orders()\n",
    "order_statistics = calculate_order_statistics(order, products)\n",
    "updated_inventory = update_inventory(order, inventory)\n",
    "\n",
    "print_order_statistics(order_statistics)\n",
    "print(\"\\n\")\n",
    "print_updated_inventory(updated_inventory)\n",
    "print(\"\\n\")\n",
    "order_price(order)\n"
   ]
  }
 ],
 "metadata": {
  "kernelspec": {
   "display_name": "Python 3 (ipykernel)",
   "language": "python",
   "name": "python3"
  },
  "language_info": {
   "codemirror_mode": {
    "name": "ipython",
    "version": 3
   },
   "file_extension": ".py",
   "mimetype": "text/x-python",
   "name": "python",
   "nbconvert_exporter": "python",
   "pygments_lexer": "ipython3",
   "version": "3.11.5"
  }
 },
 "nbformat": 4,
 "nbformat_minor": 5
}
